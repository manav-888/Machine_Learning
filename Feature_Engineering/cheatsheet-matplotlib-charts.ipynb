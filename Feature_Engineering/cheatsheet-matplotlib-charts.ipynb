{
 "cells": [
  {
   "cell_type": "markdown",
   "metadata": {
    "papermill": {
     "duration": 0.035825,
     "end_time": "2024-05-12T01:22:50.953651",
     "exception": false,
     "start_time": "2024-05-12T01:22:50.917826",
     "status": "completed"
    },
    "tags": []
   },
   "source": [
    "<font color='blue' size=10><center><u> Cheatsheet - Matplotlib Charts</u></center> </font>"
   ]
  },
  {
   "cell_type": "markdown",
   "metadata": {
    "papermill": {
     "duration": 0.033537,
     "end_time": "2024-05-12T01:22:51.024185",
     "exception": false,
     "start_time": "2024-05-12T01:22:50.990648",
     "status": "completed"
    },
    "tags": []
   },
   "source": [
    "This kernel is all about matplotlib charts -- the basic python data visualization tool."
   ]
  },
  {
   "cell_type": "markdown",
   "metadata": {
    "papermill": {
     "duration": 0.04144,
     "end_time": "2024-05-12T01:22:51.101827",
     "exception": false,
     "start_time": "2024-05-12T01:22:51.060387",
     "status": "completed"
    },
    "tags": []
   },
   "source": [
    "<font color='red' size=5> Please Upvote my kernel and keep it in your favourite section if you think it is helpful.</font>"
   ]
  },
  {
   "cell_type": "markdown",
   "metadata": {
    "papermill": {
     "duration": 0.033983,
     "end_time": "2024-05-12T01:22:51.171499",
     "exception": false,
     "start_time": "2024-05-12T01:22:51.137516",
     "status": "completed"
    },
    "tags": []
   },
   "source": [
    "In the last few months, I was working extensively on plots and to be honest it is hard to remember each and everything and I am tired of looking back and forth in my notebooks for the reference. This hectic process motivates me to prepare this notebook not only for me but also others. Now I dont have to look at different notebooks for the reference only this one enough. I am making this notebook specially copy paste purpose and for beginners to learn matplotlib.\n",
    "\n",
    "I used different datasets such as titanic, heart-disease, iris, pima-indians-diabetes, heart-failure-clinical data and pokemon datasets available on kaggle. All this datasets are used for visulization purpose only, I not trying to say or interpret any conclusion here. \n",
    "\n",
    "Enjoy! 😄"
   ]
  },
  {
   "cell_type": "markdown",
   "metadata": {
    "papermill": {
     "duration": 0.038884,
     "end_time": "2024-05-12T01:22:51.254543",
     "exception": false,
     "start_time": "2024-05-12T01:22:51.215659",
     "status": "completed"
    },
    "tags": []
   },
   "source": [
    "<a id=\"TOC\"></a>\n",
    "\n",
    "<div class=\"list-group\" id=\"list-tab\" role=\"tablist\">\n",
    "<h1 class=\"list-group-item list-group-item-action active\" data-toggle=\"list\" style='background:blue; border:0' role=\"tab\" aria-controls=\"home\"><center>Table of Content</center></h1>\n",
    "    \n",
    "1. [Introduction](#introduction)\n",
    "2. [Libraries](#library)\n",
    "3. [Data](#data)\n",
    "4. [Scatter Plot](#scatter_plot)\n",
    "    1. [Basic Scatter Plot](#basic_scatter_plot)\n",
    "    2. [Scatter Plot - Category](#categor_scatter_plot)\n",
    "    3. [Scatter Plot with Regression Fit](#reg_scatter_plot)\n",
    "    4. [Control shape of element in Scatter Plot](#shape_scatter_plot)\n",
    "    5. [Using color Palletes in Scatter Plot](#color_scatter_plot)\n",
    "5. [Line Plot](#line_plot)\n",
    "    1. [Basic Line Plot](#basic_line_plot)\n",
    "    2. [Line Plot - Category](#category_line_plot)\n",
    "6. [Histogram](#histogram)\n",
    "    1. [Basic Histogram Plot](#basic_histogram_plot)\n",
    "    2. [Histogram Plot : Control Number of Bins](#bins_histogram_plot)\n",
    "    3. [Histogram Plot : Control Density](#kde_histogram_plot)\n",
    "7. [Bar Plot](#bar_plot)\n",
    "    1. [Basic Bar Plot](#basic_bar_plot)\n",
    "    2. [Horizontal Bar Plot](#horizontal_bar_plot)"
   ]
  },
  {
   "cell_type": "markdown",
   "metadata": {
    "papermill": {
     "duration": 0.035536,
     "end_time": "2024-05-12T01:22:51.324879",
     "exception": false,
     "start_time": "2024-05-12T01:22:51.289343",
     "status": "completed"
    },
    "tags": []
   },
   "source": [
    "<a id=\"introduction\"></a>\n",
    "<h1 style='background:blue; border:0; color:white'><center>Introduction</center><h1>"
   ]
  },
  {
   "cell_type": "markdown",
   "metadata": {
    "papermill": {
     "duration": 0.032745,
     "end_time": "2024-05-12T01:22:51.396758",
     "exception": false,
     "start_time": "2024-05-12T01:22:51.364013",
     "status": "completed"
    },
    "tags": []
   },
   "source": [
    "## Matplotlib\n",
    "Matplotlib is a comprehensive library for creating static, animated, and interactive visualizations in Python. With its extensive functionality, Matplotlib allows data scientists and analysts to represent data in a wide variety of formats, making it a powerful tool for exploratory data analysis, presentation, and communication of findings.\n",
    "\n",
    "In this Kaggle notebook, we'll delve into the diverse range of charts and plots that Matplotlib offers. From basic line plots to intricate 3D visualizations, Matplotlib provides the flexibility to create stunning graphics tailored to your data and analytical needs. We'll categorize these visualizations into distinct groups to facilitate understanding and organization."
   ]
  },
  {
   "cell_type": "markdown",
   "metadata": {
    "papermill": {
     "duration": 0.033467,
     "end_time": "2024-05-12T01:22:51.464226",
     "exception": false,
     "start_time": "2024-05-12T01:22:51.430759",
     "status": "completed"
    },
    "tags": []
   },
   "source": [
    "<a id=\"library\"></a>\n",
    "<h1 style='background:blue; border:0; color:white'><center>Libraries</center><h1>"
   ]
  },
  {
   "cell_type": "code",
   "execution_count": 1,
   "metadata": {
    "_cell_guid": "b1076dfc-b9ad-4769-8c92-a6c4dae69d19",
    "_uuid": "8f2839f25d086af736a60e9eeb907d3b93b6e0e5",
    "execution": {
     "iopub.execute_input": "2024-05-12T01:22:51.553991Z",
     "iopub.status.busy": "2024-05-12T01:22:51.552960Z",
     "iopub.status.idle": "2024-05-12T01:22:51.557497Z",
     "shell.execute_reply": "2024-05-12T01:22:51.558356Z"
    },
    "papermill": {
     "duration": 0.057294,
     "end_time": "2024-05-12T01:22:51.558582",
     "exception": false,
     "start_time": "2024-05-12T01:22:51.501288",
     "status": "completed"
    },
    "tags": []
   },
   "outputs": [],
   "source": [
    "# Import dependencies\n",
    "\n",
    "import numpy as np\n",
    "import pandas as pd\n",
    "\n",
    "import matplotlib.pyplot as plt"
   ]
  },
  {
   "cell_type": "markdown",
   "metadata": {
    "papermill": {
     "duration": 0.035465,
     "end_time": "2024-05-12T01:22:51.634672",
     "exception": false,
     "start_time": "2024-05-12T01:22:51.599207",
     "status": "completed"
    },
    "tags": []
   },
   "source": [
    "<a id=\"data\"></a>\n",
    "<h1 style='background:blue; border:0; color:white'><center>Load Data</center><h1>"
   ]
  },
  {
   "cell_type": "code",
   "execution_count": 2,
   "metadata": {
    "_cell_guid": "79c7e3d0-c299-4dcb-8224-4455121ee9b0",
    "_uuid": "d629ff2d2480ee46fbb7e2d37f6b5fab8052498a",
    "execution": {
     "iopub.execute_input": "2024-05-12T01:22:51.708170Z",
     "iopub.status.busy": "2024-05-12T01:22:51.707426Z",
     "iopub.status.idle": "2024-05-12T01:22:52.508918Z",
     "shell.execute_reply": "2024-05-12T01:22:52.509472Z"
    },
    "papermill": {
     "duration": 0.840249,
     "end_time": "2024-05-12T01:22:52.509635",
     "exception": false,
     "start_time": "2024-05-12T01:22:51.669386",
     "status": "completed"
    },
    "tags": []
   },
   "outputs": [],
   "source": [
    "titanic=pd.read_csv('../input/titanic/train.csv')\n",
    "heart_diseases=pd.read_csv('../input/heart-disease-uci/heart.csv')\n",
    "iris=pd.read_csv('../input/iris/Iris.csv')\n",
    "diabetes=pd.read_csv('../input/pima-indians-diabetes-database/diabetes.csv')\n",
    "pokemon=pd.read_csv('../input/pokemon/Pokemon.csv')\n",
    "heart_failure=pd.read_csv('../input/heart-failure-clinical-data/heart_failure_clinical_records_dataset.csv')\n",
    "corona_virus = pd.read_csv('../input/novel-corona-virus-2019-dataset/covid_19_data.csv')\n",
    "latest_covid_cases = pd.read_csv('../input/novel-covid19-dataset/cases_country.csv')"
   ]
  },
  {
   "cell_type": "markdown",
   "metadata": {
    "papermill": {
     "duration": 0.033738,
     "end_time": "2024-05-12T01:22:52.577871",
     "exception": false,
     "start_time": "2024-05-12T01:22:52.544133",
     "status": "completed"
    },
    "tags": []
   },
   "source": [
    "<a id=\"scatter_plot\"></a>\n",
    "<h1 style='background:blue; border:0; color:white'><center>Scatter Plot</center><h1>"
   ]
  },
  {
   "cell_type": "markdown",
   "metadata": {
    "papermill": {
     "duration": 0.033727,
     "end_time": "2024-05-12T01:22:52.645393",
     "exception": false,
     "start_time": "2024-05-12T01:22:52.611666",
     "status": "completed"
    },
    "tags": []
   },
   "source": [
    "A Scatterplot displays the value of 2 sets of data on 2 dimensions. Each dot represents an observation. The position on the X (horizontal) and Y (vertical) axis represents the values of the 2 variables. It is really useful to study the relationship between both variables. It is common to provide even more information using colors or shapes (to show groups, or a third variable). It is also possible to map another variable to the size of each dot, what makes a bubble plot. If you have many dots and struggle with overplotting, consider using 2D density plot."
   ]
  },
  {
   "cell_type": "markdown",
   "metadata": {
    "papermill": {
     "duration": 0.034285,
     "end_time": "2024-05-12T01:22:52.714476",
     "exception": false,
     "start_time": "2024-05-12T01:22:52.680191",
     "status": "completed"
    },
    "tags": []
   },
   "source": [
    "![](https://datavizcatalogue.com/methods/images/anatomy/scatterplot.png)\n",
    "<font size=1><center> Source: [DataVizCatalogue](https://datavizcatalogue.com/methods/images/anatomy/scatterplot.png) </center></font>"
   ]
  },
  {
   "cell_type": "code",
   "execution_count": 3,
   "metadata": {
    "execution": {
     "iopub.execute_input": "2024-05-12T01:22:52.788837Z",
     "iopub.status.busy": "2024-05-12T01:22:52.787975Z",
     "iopub.status.idle": "2024-05-12T01:22:52.985110Z",
     "shell.execute_reply": "2024-05-12T01:22:52.984512Z"
    },
    "papermill": {
     "duration": 0.235564,
     "end_time": "2024-05-12T01:22:52.985235",
     "exception": false,
     "start_time": "2024-05-12T01:22:52.749671",
     "status": "completed"
    },
    "tags": []
   },
   "outputs": [
    {
     "data": {
      "image/png": "[encoded data removed]",
      "text/plain": [
       "<Figure size 432x288 with 1 Axes>"
      ]
     },
     "metadata": {
      "needs_background": "light"
     },
     "output_type": "display_data"
    }
   ],
   "source": [
    "plt.plot(iris['PetalLengthCm'], iris['PetalWidthCm'], linestyle='none', marker='o', color='b')\n",
    "plt.show()"
   ]
  },
  {
   "cell_type": "markdown",
   "metadata": {
    "papermill": {
     "duration": 0.034671,
     "end_time": "2024-05-12T01:22:53.056198",
     "exception": false,
     "start_time": "2024-05-12T01:22:53.021527",
     "status": "completed"
    },
    "tags": []
   },
   "source": [
    "<a id=\"line_plot\"></a>\n",
    "<h1 style='background:blue; border:0; color:white'><center>Line Plot</center><h1>"
   ]
  },
  {
   "cell_type": "markdown",
   "metadata": {
    "papermill": {
     "duration": 0.038837,
     "end_time": "2024-05-12T01:22:53.129976",
     "exception": false,
     "start_time": "2024-05-12T01:22:53.091139",
     "status": "completed"
    },
    "tags": []
   },
   "source": [
    "![](https://datavizcatalogue.com/methods/images/anatomy/line_graph.png)\n",
    "<font size=1><center>Source: [DataVizCatalogue](https://datavizcatalogue.com/methods/images/anatomy/line_graph.png)</center></font>"
   ]
  },
  {
   "cell_type": "code",
   "execution_count": 4,
   "metadata": {
    "execution": {
     "iopub.execute_input": "2024-05-12T01:22:53.225329Z",
     "iopub.status.busy": "2024-05-12T01:22:53.220093Z",
     "iopub.status.idle": "2024-05-12T01:22:53.493189Z",
     "shell.execute_reply": "2024-05-12T01:22:53.492450Z"
    },
    "papermill": {
     "duration": 0.315931,
     "end_time": "2024-05-12T01:22:53.493304",
     "exception": false,
     "start_time": "2024-05-12T01:22:53.177373",
     "status": "completed"
    },
    "tags": []
   },
   "outputs": [
    {
     "data": {
      "image/png": "[encoded data removed]",
      "text/plain": [
       "<Figure size 432x288 with 1 Axes>"
      ]
     },
     "metadata": {
      "needs_background": "light"
     },
     "output_type": "display_data"
    }
   ],
   "source": [
    "x = np.linspace(0, 20, 1000)\n",
    "y = np.cos(x)\n",
    "\n",
    "plt.plot(x,y, color='b', linestyle='--')\n",
    "plt.show()"
   ]
  },
  {
   "cell_type": "markdown",
   "metadata": {
    "papermill": {
     "duration": 0.041974,
     "end_time": "2024-05-12T01:22:53.571375",
     "exception": false,
     "start_time": "2024-05-12T01:22:53.529401",
     "status": "completed"
    },
    "tags": []
   },
   "source": [
    "<a id=\"histogram\"></a>\n",
    "<h1 style='background:blue; border:0; color:white'><center>Histogram</center></h1>\n",
    "\n",
    "An histogram is an accurate graphical representation of the distribution of numerical data. It takes as input one numerical variable only. The variable is cut into several bins, and the\n",
    "number of observation per bin is represented by the height of the bar."
   ]
  },
  {
   "cell_type": "markdown",
   "metadata": {
    "papermill": {
     "duration": 0.036863,
     "end_time": "2024-05-12T01:22:53.647180",
     "exception": false,
     "start_time": "2024-05-12T01:22:53.610317",
     "status": "completed"
    },
    "tags": []
   },
   "source": [
    "![](https://datavizcatalogue.com/methods/images/anatomy/histogram.png)\n",
    "<font size=1><center>Source: [DataVizCatalogue](https://datavizcatalogue.com/methods/images/anatomy/histogram.png)</center></font>"
   ]
  },
  {
   "cell_type": "code",
   "execution_count": 5,
   "metadata": {
    "execution": {
     "iopub.execute_input": "2024-05-12T01:22:53.727248Z",
     "iopub.status.busy": "2024-05-12T01:22:53.726425Z",
     "iopub.status.idle": "2024-05-12T01:22:53.909679Z",
     "shell.execute_reply": "2024-05-12T01:22:53.908866Z"
    },
    "papermill": {
     "duration": 0.226129,
     "end_time": "2024-05-12T01:22:53.909814",
     "exception": false,
     "start_time": "2024-05-12T01:22:53.683685",
     "status": "completed"
    },
    "tags": []
   },
   "outputs": [
    {
     "data": {
      "text/plain": [
       "Text(0.5, 1.0, 'Age distribution.')"
      ]
     },
     "execution_count": 5,
     "metadata": {},
     "output_type": "execute_result"
    },
    {
     "data": {
      "image/png": "[encoded data removed]",
      "text/plain": [
       "<Figure size 432x288 with 1 Axes>"
      ]
     },
     "metadata": {
      "needs_background": "light"
     },
     "output_type": "display_data"
    }
   ],
   "source": [
    "plt.hist(heart_diseases['age'])\n",
    "plt.xlabel('Age')\n",
    "plt.ylabel('Count')\n",
    "plt.title('Age distribution.')"
   ]
  },
  {
   "cell_type": "markdown",
   "metadata": {
    "papermill": {
     "duration": 0.038525,
     "end_time": "2024-05-12T01:22:53.987871",
     "exception": false,
     "start_time": "2024-05-12T01:22:53.949346",
     "status": "completed"
    },
    "tags": []
   },
   "source": [
    "<a id=\"bar_plot\"></a>\n",
    "<h1 style='background:blue; border:0; color:white'><center>Bar Plot</center></h1>\n",
    "\n",
    "A barplot (or barchart) is one of the most common type of plot. It shows the relationship between a numerical variable and a categorical variable. For example, you can display the height of several individuals using bar chart."
   ]
  },
  {
   "cell_type": "markdown",
   "metadata": {
    "papermill": {
     "duration": 0.038088,
     "end_time": "2024-05-12T01:22:54.065830",
     "exception": false,
     "start_time": "2024-05-12T01:22:54.027742",
     "status": "completed"
    },
    "tags": []
   },
   "source": [
    "![](https://datavizcatalogue.com/methods/images/anatomy/bar_chart.png)\n",
    "<font size=1><center>Source: [DataVizCatalogue](https://datavizcatalogue.com/methods/images/anatomy/bar_chart.png)</center></font>"
   ]
  },
  {
   "cell_type": "code",
   "execution_count": 6,
   "metadata": {
    "execution": {
     "iopub.execute_input": "2024-05-12T01:22:54.154900Z",
     "iopub.status.busy": "2024-05-12T01:22:54.154134Z",
     "iopub.status.idle": "2024-05-12T01:22:54.157129Z",
     "shell.execute_reply": "2024-05-12T01:22:54.156557Z"
    },
    "papermill": {
     "duration": 0.052776,
     "end_time": "2024-05-12T01:22:54.157257",
     "exception": false,
     "start_time": "2024-05-12T01:22:54.104481",
     "status": "completed"
    },
    "tags": []
   },
   "outputs": [],
   "source": [
    "bar_data = pokemon['Type 1'].value_counts().reset_index()\n",
    "bar_data['err'] = pokemon['Type 1'].value_counts().std()"
   ]
  },
  {
   "cell_type": "code",
   "execution_count": 7,
   "metadata": {
    "execution": {
     "iopub.execute_input": "2024-05-12T01:22:54.249276Z",
     "iopub.status.busy": "2024-05-12T01:22:54.247488Z",
     "iopub.status.idle": "2024-05-12T01:22:54.457791Z",
     "shell.execute_reply": "2024-05-12T01:22:54.458411Z"
    },
    "papermill": {
     "duration": 0.262345,
     "end_time": "2024-05-12T01:22:54.458582",
     "exception": false,
     "start_time": "2024-05-12T01:22:54.196237",
     "status": "completed"
    },
    "tags": []
   },
   "outputs": [
    {
     "data": {
      "text/plain": [
       "Text(0.5, 1.0, 'Abilities of Pokemons')"
      ]
     },
     "execution_count": 7,
     "metadata": {},
     "output_type": "execute_result"
    },
    {
     "data": {
      "image/png": "[encoded data removed]",
      "text/plain": [
       "<Figure size 432x288 with 1 Axes>"
      ]
     },
     "metadata": {
      "needs_background": "light"
     },
     "output_type": "display_data"
    }
   ],
   "source": [
    "plt.bar(bar_data['index'], bar_data['Type 1'])\n",
    "plt.xticks(rotation=90)\n",
    "plt.xlabel('Ability')\n",
    "plt.ylabel('Count')\n",
    "plt.title(\"Abilities of Pokemons\")"
   ]
  },
  {
   "cell_type": "markdown",
   "metadata": {
    "papermill": {
     "duration": 0.040259,
     "end_time": "2024-05-12T01:22:54.539574",
     "exception": false,
     "start_time": "2024-05-12T01:22:54.499315",
     "status": "completed"
    },
    "tags": []
   },
   "source": [
    "<a id=\"h_bar_plot\"></a>\n",
    "<h1 style='background:blue; border:0; color:white'><center>Horizontal Bar Plot</center></h1>"
   ]
  },
  {
   "cell_type": "code",
   "execution_count": 8,
   "metadata": {
    "execution": {
     "iopub.execute_input": "2024-05-12T01:22:54.627175Z",
     "iopub.status.busy": "2024-05-12T01:22:54.626111Z",
     "iopub.status.idle": "2024-05-12T01:22:54.848256Z",
     "shell.execute_reply": "2024-05-12T01:22:54.847541Z"
    },
    "papermill": {
     "duration": 0.268092,
     "end_time": "2024-05-12T01:22:54.848390",
     "exception": false,
     "start_time": "2024-05-12T01:22:54.580298",
     "status": "completed"
    },
    "tags": []
   },
   "outputs": [
    {
     "data": {
      "text/plain": [
       "Text(0.5, 1.0, 'Abilities of Pokemons')"
      ]
     },
     "execution_count": 8,
     "metadata": {},
     "output_type": "execute_result"
    },
    {
     "data": {
      "image/png": "[encoded data removed]",
      "text/plain": [
       "<Figure size 720x432 with 1 Axes>"
      ]
     },
     "metadata": {
      "needs_background": "light"
     },
     "output_type": "display_data"
    }
   ],
   "source": [
    "plt.figure(figsize=(10,6))\n",
    "plt.barh(bar_data['index'], bar_data['Type 1'])\n",
    "plt.xlabel('Ability')\n",
    "plt.ylabel('Count')\n",
    "plt.title(\"Abilities of Pokemons\")"
   ]
  },
  {
   "cell_type": "markdown",
   "metadata": {
    "papermill": {
     "duration": 0.041477,
     "end_time": "2024-05-12T01:22:54.932291",
     "exception": false,
     "start_time": "2024-05-12T01:22:54.890814",
     "status": "completed"
    },
    "tags": []
   },
   "source": [
    "<a id=\"e_bar_plot\"></a>\n",
    "<h1 style='background:blue; border:0; color:white'><center>Error Bar Plot</center></h1>"
   ]
  },
  {
   "cell_type": "code",
   "execution_count": 9,
   "metadata": {
    "execution": {
     "iopub.execute_input": "2024-05-12T01:22:55.022841Z",
     "iopub.status.busy": "2024-05-12T01:22:55.022121Z",
     "iopub.status.idle": "2024-05-12T01:22:55.250600Z",
     "shell.execute_reply": "2024-05-12T01:22:55.251169Z"
    },
    "papermill": {
     "duration": 0.27761,
     "end_time": "2024-05-12T01:22:55.251336",
     "exception": false,
     "start_time": "2024-05-12T01:22:54.973726",
     "status": "completed"
    },
    "tags": []
   },
   "outputs": [
    {
     "data": {
      "text/plain": [
       "Text(0.5, 1.0, 'Abilities of Pokemons')"
      ]
     },
     "execution_count": 9,
     "metadata": {},
     "output_type": "execute_result"
    },
    {
     "data": {
      "image/png": "[encoded data removed]",
      "text/plain": [
       "<Figure size 432x288 with 1 Axes>"
      ]
     },
     "metadata": {
      "needs_background": "light"
     },
     "output_type": "display_data"
    }
   ],
   "source": [
    "plt.bar(bar_data['index'], bar_data['Type 1'], yerr=bar_data['err'])\n",
    "plt.xticks(rotation=90)\n",
    "plt.xlabel('Ability')\n",
    "plt.ylabel('Count')\n",
    "plt.title(\"Abilities of Pokemons\")"
   ]
  },
  {
   "cell_type": "markdown",
   "metadata": {
    "papermill": {
     "duration": 0.044535,
     "end_time": "2024-05-12T01:22:55.338986",
     "exception": false,
     "start_time": "2024-05-12T01:22:55.294451",
     "status": "completed"
    },
    "tags": []
   },
   "source": [
    "<a id=\"box_plot\"></a>\n",
    "<h1 style='background:blue; border:0; color:white'><center>Box Plot</center></h1>\n",
    "\n",
    "A Box and Whisker Plot (or Box Plot) is a convenient way of visually displaying the data distribution through their quartiles."
   ]
  },
  {
   "cell_type": "markdown",
   "metadata": {
    "papermill": {
     "duration": 0.043021,
     "end_time": "2024-05-12T01:22:55.426742",
     "exception": false,
     "start_time": "2024-05-12T01:22:55.383721",
     "status": "completed"
    },
    "tags": []
   },
   "source": [
    "![](https://datavizcatalogue.com/methods/images/anatomy/box_plot.png)\n",
    "<font size=1><center>Source: [DataVizCatalogue](https://datavizcatalogue.com/methods/images/anatomy/box_plot.png)</center></font>"
   ]
  },
  {
   "cell_type": "markdown",
   "metadata": {
    "papermill": {
     "duration": 0.043392,
     "end_time": "2024-05-12T01:22:55.513385",
     "exception": false,
     "start_time": "2024-05-12T01:22:55.469993",
     "status": "completed"
    },
    "tags": []
   },
   "source": [
    "<a id=\"s_box_plot\"></a>\n",
    "<h1 style='background:blue; border:0; color:white'><center>Simple Box Plot</center></h1>"
   ]
  },
  {
   "cell_type": "code",
   "execution_count": 10,
   "metadata": {
    "execution": {
     "iopub.execute_input": "2024-05-12T01:22:55.613986Z",
     "iopub.status.busy": "2024-05-12T01:22:55.606377Z",
     "iopub.status.idle": "2024-05-12T01:22:55.739732Z",
     "shell.execute_reply": "2024-05-12T01:22:55.740277Z"
    },
    "papermill": {
     "duration": 0.183143,
     "end_time": "2024-05-12T01:22:55.740435",
     "exception": false,
     "start_time": "2024-05-12T01:22:55.557292",
     "status": "completed"
    },
    "tags": []
   },
   "outputs": [
    {
     "data": {
      "text/plain": [
       "Text(0.5, 1.0, 'Simple Box Plot')"
      ]
     },
     "execution_count": 10,
     "metadata": {},
     "output_type": "execute_result"
    },
    {
     "data": {
      "image/png": "[encoded data removed]",
      "text/plain": [
       "<Figure size 720x432 with 1 Axes>"
      ]
     },
     "metadata": {
      "needs_background": "light"
     },
     "output_type": "display_data"
    }
   ],
   "source": [
    "plt.figure(figsize=(10,6))\n",
    "plt.boxplot(heart_diseases['chol'])\n",
    "plt.ylabel('Value')\n",
    "plt.title(\"Simple Box Plot\")"
   ]
  },
  {
   "cell_type": "markdown",
   "metadata": {
    "papermill": {
     "duration": 0.047014,
     "end_time": "2024-05-12T01:22:55.833252",
     "exception": false,
     "start_time": "2024-05-12T01:22:55.786238",
     "status": "completed"
    },
    "tags": []
   },
   "source": [
    "<a id=\"m_box_plot\"></a>\n",
    "<h1 style='background:blue; border:0; color:white'><center>Multiple Box Plot</center></h1>"
   ]
  },
  {
   "cell_type": "code",
   "execution_count": 11,
   "metadata": {
    "execution": {
     "iopub.execute_input": "2024-05-12T01:22:55.939528Z",
     "iopub.status.busy": "2024-05-12T01:22:55.932489Z",
     "iopub.status.idle": "2024-05-12T01:22:56.092912Z",
     "shell.execute_reply": "2024-05-12T01:22:56.092286Z"
    },
    "papermill": {
     "duration": 0.213355,
     "end_time": "2024-05-12T01:22:56.093054",
     "exception": false,
     "start_time": "2024-05-12T01:22:55.879699",
     "status": "completed"
    },
    "tags": []
   },
   "outputs": [
    {
     "data": {
      "text/plain": [
       "Text(0.5, 1.0, 'Box Plot')"
      ]
     },
     "execution_count": 11,
     "metadata": {},
     "output_type": "execute_result"
    },
    {
     "data": {
      "image/png": "[encoded data removed]",
      "text/plain": [
       "<Figure size 720x432 with 1 Axes>"
      ]
     },
     "metadata": {
      "needs_background": "light"
     },
     "output_type": "display_data"
    }
   ],
   "source": [
    "plt.figure(figsize=(10,6))\n",
    "plt.boxplot([diabetes['Age'], diabetes['BMI']])\n",
    "plt.ylabel('Value')\n",
    "plt.title(\"Box Plot\")"
   ]
  },
  {
   "cell_type": "markdown",
   "metadata": {
    "papermill": {
     "duration": 0.0469,
     "end_time": "2024-05-12T01:22:56.187481",
     "exception": false,
     "start_time": "2024-05-12T01:22:56.140581",
     "status": "completed"
    },
    "tags": []
   },
   "source": [
    "<a id=\"xticks_box_plot\"></a>\n",
    "<h1 style='background:blue; border:0; color:white'><center>Adding Xticks to Box Plot</center></h1>"
   ]
  },
  {
   "cell_type": "code",
   "execution_count": 12,
   "metadata": {
    "execution": {
     "iopub.execute_input": "2024-05-12T01:22:56.289671Z",
     "iopub.status.busy": "2024-05-12T01:22:56.288496Z",
     "iopub.status.idle": "2024-05-12T01:22:56.478120Z",
     "shell.execute_reply": "2024-05-12T01:22:56.477506Z"
    },
    "papermill": {
     "duration": 0.24425,
     "end_time": "2024-05-12T01:22:56.478253",
     "exception": false,
     "start_time": "2024-05-12T01:22:56.234003",
     "status": "completed"
    },
    "tags": []
   },
   "outputs": [
    {
     "data": {
      "text/plain": [
       "Text(0.5, 1.0, 'Box Plot')"
      ]
     },
     "execution_count": 12,
     "metadata": {},
     "output_type": "execute_result"
    },
    {
     "data": {
      "image/png": "[encoded data removed]",
      "text/plain": [
       "<Figure size 720x432 with 1 Axes>"
      ]
     },
     "metadata": {
      "needs_background": "light"
     },
     "output_type": "display_data"
    }
   ],
   "source": [
    "plt.figure(figsize=(10,6))\n",
    "plt.boxplot([diabetes['Age'], diabetes['BMI'], diabetes['BloodPressure'], diabetes['Glucose']])\n",
    "plt.xticks([1, 2, 3, 4], ['Age', 'BMI', 'BloodPressure', 'Glucose'])\n",
    "plt.ylabel('Value')\n",
    "plt.title(\"Box Plot\")"
   ]
  },
  {
   "cell_type": "markdown",
   "metadata": {
    "papermill": {
     "duration": 0.048943,
     "end_time": "2024-05-12T01:22:56.576066",
     "exception": false,
     "start_time": "2024-05-12T01:22:56.527123",
     "status": "completed"
    },
    "tags": []
   },
   "source": [
    "<a id=\"horizontal_box_plot\"></a>\n",
    "<h1 style='background:blue; border:0; color:white'><center>Horizontal Box Plot</center></h1>"
   ]
  },
  {
   "cell_type": "code",
   "execution_count": 13,
   "metadata": {
    "execution": {
     "iopub.execute_input": "2024-05-12T01:22:56.679999Z",
     "iopub.status.busy": "2024-05-12T01:22:56.679292Z",
     "iopub.status.idle": "2024-05-12T01:22:56.869111Z",
     "shell.execute_reply": "2024-05-12T01:22:56.869597Z"
    },
    "papermill": {
     "duration": 0.245405,
     "end_time": "2024-05-12T01:22:56.869744",
     "exception": false,
     "start_time": "2024-05-12T01:22:56.624339",
     "status": "completed"
    },
    "tags": []
   },
   "outputs": [
    {
     "data": {
      "text/plain": [
       "Text(0.5, 1.0, 'Box Plot')"
      ]
     },
     "execution_count": 13,
     "metadata": {},
     "output_type": "execute_result"
    },
    {
     "data": {
      "image/png": "[encoded data removed]",
      "text/plain": [
       "<Figure size 720x432 with 1 Axes>"
      ]
     },
     "metadata": {
      "needs_background": "light"
     },
     "output_type": "display_data"
    }
   ],
   "source": [
    "plt.figure(figsize=(10,6))\n",
    "plt.boxplot([diabetes['Age'], diabetes['BMI'], diabetes['BloodPressure'], diabetes['Glucose']], vert=False)\n",
    "plt.yticks([1, 2, 3, 4], ['Age', 'BMI', 'BloodPressure', 'Glucose'])\n",
    "plt.xlabel('Value')\n",
    "plt.title(\"Box Plot\")"
   ]
  },
  {
   "cell_type": "markdown",
   "metadata": {
    "papermill": {
     "duration": 0.050166,
     "end_time": "2024-05-12T01:22:56.970383",
     "exception": false,
     "start_time": "2024-05-12T01:22:56.920217",
     "status": "completed"
    },
    "tags": []
   },
   "source": [
    "<a id=\"area_plot\"></a>\n",
    "<h1 style='background:blue; border:0; color:white'><center>Area Plot</center></h1>"
   ]
  },
  {
   "cell_type": "markdown",
   "metadata": {
    "papermill": {
     "duration": 0.049982,
     "end_time": "2024-05-12T01:22:57.070826",
     "exception": false,
     "start_time": "2024-05-12T01:22:57.020844",
     "status": "completed"
    },
    "tags": []
   },
   "source": [
    "An area chart is really similar to a line chart, except that the area between the x axis and the line is filled in with color or shading. It represents the evolution of a numerical variable following another numerical variable. "
   ]
  },
  {
   "cell_type": "markdown",
   "metadata": {
    "papermill": {
     "duration": 0.050258,
     "end_time": "2024-05-12T01:22:57.170911",
     "exception": false,
     "start_time": "2024-05-12T01:22:57.120653",
     "status": "completed"
    },
    "tags": []
   },
   "source": [
    "![](https://datavizcatalogue.com/methods/images/anatomy/area_graph.png)\n",
    "<font size=1><center>Source: [DataVizCatalogue](https://datavizcatalogue.com/methods/images/anatomy/area_graph.png)</center></font>"
   ]
  },
  {
   "cell_type": "code",
   "execution_count": 14,
   "metadata": {
    "execution": {
     "iopub.execute_input": "2024-05-12T01:22:57.275203Z",
     "iopub.status.busy": "2024-05-12T01:22:57.274471Z",
     "iopub.status.idle": "2024-05-12T01:22:57.330763Z",
     "shell.execute_reply": "2024-05-12T01:22:57.329975Z"
    },
    "papermill": {
     "duration": 0.109543,
     "end_time": "2024-05-12T01:22:57.330891",
     "exception": false,
     "start_time": "2024-05-12T01:22:57.221348",
     "status": "completed"
    },
    "tags": []
   },
   "outputs": [],
   "source": [
    "temp = corona_virus.groupby('ObservationDate')['Confirmed'].sum().reset_index()"
   ]
  },
  {
   "cell_type": "code",
   "execution_count": 15,
   "metadata": {
    "execution": {
     "iopub.execute_input": "2024-05-12T01:22:57.435178Z",
     "iopub.status.busy": "2024-05-12T01:22:57.434454Z",
     "iopub.status.idle": "2024-05-12T01:22:57.738935Z",
     "shell.execute_reply": "2024-05-12T01:22:57.738374Z"
    },
    "papermill": {
     "duration": 0.35716,
     "end_time": "2024-05-12T01:22:57.739077",
     "exception": false,
     "start_time": "2024-05-12T01:22:57.381917",
     "status": "completed"
    },
    "tags": []
   },
   "outputs": [
    {
     "data": {
      "image/png": "[encoded data removed]",
      "text/plain": [
       "<Figure size 1440x864 with 1 Axes>"
      ]
     },
     "metadata": {
      "needs_background": "light"
     },
     "output_type": "display_data"
    }
   ],
   "source": [
    "fig = plt.figure(figsize=(20,12))\n",
    "plt.fill_between(temp['ObservationDate'][:30], temp['Confirmed'][:30], color='lightblue')\n",
    "plt.xticks(rotation=90)\n",
    "plt.show()"
   ]
  },
  {
   "cell_type": "markdown",
   "metadata": {
    "papermill": {
     "duration": 0.051011,
     "end_time": "2024-05-12T01:22:57.842881",
     "exception": false,
     "start_time": "2024-05-12T01:22:57.791870",
     "status": "completed"
    },
    "tags": []
   },
   "source": [
    "<a id=\"stacked_area_chart\"></a>\n",
    "<h1 style='background:blue; border:0; color:white'><center>Stacked Area Chart</center></h1>"
   ]
  },
  {
   "cell_type": "code",
   "execution_count": 16,
   "metadata": {
    "execution": {
     "iopub.execute_input": "2024-05-12T01:22:58.006402Z",
     "iopub.status.busy": "2024-05-12T01:22:58.005641Z",
     "iopub.status.idle": "2024-05-12T01:22:58.141609Z",
     "shell.execute_reply": "2024-05-12T01:22:58.140840Z"
    },
    "papermill": {
     "duration": 0.247027,
     "end_time": "2024-05-12T01:22:58.141732",
     "exception": false,
     "start_time": "2024-05-12T01:22:57.894705",
     "status": "completed"
    },
    "tags": []
   },
   "outputs": [],
   "source": [
    "india = corona_virus[corona_virus['Country/Region']=='India'].groupby('ObservationDate')['Confirmed'].sum().reset_index()\n",
    "us = corona_virus[corona_virus['Country/Region']=='US'].groupby('ObservationDate')['Confirmed'].sum().reset_index()\n",
    "brazil = corona_virus[corona_virus['Country/Region']=='Brazil'].groupby('ObservationDate')['Confirmed'].sum().reset_index()"
   ]
  },
  {
   "cell_type": "code",
   "execution_count": 17,
   "metadata": {
    "execution": {
     "iopub.execute_input": "2024-05-12T01:22:58.257447Z",
     "iopub.status.busy": "2024-05-12T01:22:58.256722Z",
     "iopub.status.idle": "2024-05-12T01:22:58.834320Z",
     "shell.execute_reply": "2024-05-12T01:22:58.833538Z"
    },
    "papermill": {
     "duration": 0.637783,
     "end_time": "2024-05-12T01:22:58.834449",
     "exception": false,
     "start_time": "2024-05-12T01:22:58.196666",
     "status": "completed"
    },
    "tags": []
   },
   "outputs": [
    {
     "data": {
      "image/png": "[encoded data removed]",
      "text/plain": [
       "<Figure size 1440x864 with 1 Axes>"
      ]
     },
     "metadata": {
      "needs_background": "light"
     },
     "output_type": "display_data"
    }
   ],
   "source": [
    "fig = plt.figure(figsize=(20,12))\n",
    "plt.stackplot(temp['ObservationDate'][-50:], us['Confirmed'][-50:],india['Confirmed'][-50:], \n",
    "              brazil['Confirmed'][-50:], labels=['US', 'India', 'Brazil'])\n",
    "plt.xticks(rotation=90)\n",
    "plt.legend(loc='upper left')\n",
    "\n",
    "plt.show()"
   ]
  },
  {
   "cell_type": "markdown",
   "metadata": {
    "papermill": {
     "duration": 0.053601,
     "end_time": "2024-05-12T01:22:58.941834",
     "exception": false,
     "start_time": "2024-05-12T01:22:58.888233",
     "status": "completed"
    },
    "tags": []
   },
   "source": [
    "<a id=\"lollipop_plot\"></a>\n",
    "<h1 style='background:blue; border:0; color:white'><center>Lollipop Plot</center></h1>"
   ]
  },
  {
   "cell_type": "markdown",
   "metadata": {
    "papermill": {
     "duration": 0.053242,
     "end_time": "2024-05-12T01:22:59.048586",
     "exception": false,
     "start_time": "2024-05-12T01:22:58.995344",
     "status": "completed"
    },
    "tags": []
   },
   "source": [
    "A lollipop plot is an hybrid between a scatter plot and a barplot. It shows the relationship between a numerical variable and another variable, numerical OR\n",
    "categorical."
   ]
  },
  {
   "cell_type": "code",
   "execution_count": 18,
   "metadata": {
    "execution": {
     "iopub.execute_input": "2024-05-12T01:22:59.166958Z",
     "iopub.status.busy": "2024-05-12T01:22:59.166256Z",
     "iopub.status.idle": "2024-05-12T01:22:59.169218Z",
     "shell.execute_reply": "2024-05-12T01:22:59.168532Z"
    },
    "papermill": {
     "duration": 0.066136,
     "end_time": "2024-05-12T01:22:59.169348",
     "exception": false,
     "start_time": "2024-05-12T01:22:59.103212",
     "status": "completed"
    },
    "tags": []
   },
   "outputs": [],
   "source": [
    "temp = latest_covid_cases.sort_values('Confirmed', ascending= False)[['Country_Region','Confirmed']]"
   ]
  },
  {
   "cell_type": "code",
   "execution_count": 19,
   "metadata": {
    "execution": {
     "iopub.execute_input": "2024-05-12T01:22:59.280690Z",
     "iopub.status.busy": "2024-05-12T01:22:59.279979Z",
     "iopub.status.idle": "2024-05-12T01:22:59.446216Z",
     "shell.execute_reply": "2024-05-12T01:22:59.446859Z"
    },
    "papermill": {
     "duration": 0.223477,
     "end_time": "2024-05-12T01:22:59.447045",
     "exception": false,
     "start_time": "2024-05-12T01:22:59.223568",
     "status": "completed"
    },
    "tags": []
   },
   "outputs": [
    {
     "name": "stderr",
     "output_type": "stream",
     "text": [
      "/opt/conda/lib/python3.7/site-packages/ipykernel_launcher.py:1: UserWarning: In Matplotlib 3.3 individual lines on a stem plot will be added as a LineCollection instead of individual lines. This significantly improves the performance of a stem plot. To remove this warning and switch to the new behaviour, set the \"use_line_collection\" keyword argument to True.\n",
      "  \"\"\"Entry point for launching an IPython kernel.\n"
     ]
    },
    {
     "data": {
      "image/png": "[encoded data removed]",
      "text/plain": [
       "<Figure size 432x288 with 1 Axes>"
      ]
     },
     "metadata": {
      "needs_background": "light"
     },
     "output_type": "display_data"
    }
   ],
   "source": [
    "plt.stem(temp['Country_Region'][:10], temp['Confirmed'][:10])\n",
    "plt.xticks(rotation=90)\n",
    "plt.show()"
   ]
  },
  {
   "cell_type": "markdown",
   "metadata": {
    "papermill": {
     "duration": 0.057171,
     "end_time": "2024-05-12T01:22:59.560639",
     "exception": false,
     "start_time": "2024-05-12T01:22:59.503468",
     "status": "completed"
    },
    "tags": []
   },
   "source": [
    "<a id=\"horizontal_lollipop\"></a>\n",
    "<h1 style='background:blue; border:0; color:white'><center>Horizontal Lollipop</center></h1>"
   ]
  },
  {
   "cell_type": "code",
   "execution_count": 20,
   "metadata": {
    "execution": {
     "iopub.execute_input": "2024-05-12T01:22:59.686890Z",
     "iopub.status.busy": "2024-05-12T01:22:59.685781Z",
     "iopub.status.idle": "2024-05-12T01:22:59.828980Z",
     "shell.execute_reply": "2024-05-12T01:22:59.828314Z"
    },
    "papermill": {
     "duration": 0.212723,
     "end_time": "2024-05-12T01:22:59.829149",
     "exception": false,
     "start_time": "2024-05-12T01:22:59.616426",
     "status": "completed"
    },
    "tags": []
   },
   "outputs": [
    {
     "data": {
      "image/png": "[encoded data removed]",
      "text/plain": [
       "<Figure size 432x288 with 1 Axes>"
      ]
     },
     "metadata": {
      "needs_background": "light"
     },
     "output_type": "display_data"
    }
   ],
   "source": [
    "plt.hlines(y=temp['Country_Region'][:10][::-1], xmin=0, xmax=temp['Confirmed'][:10][::-1], color='skyblue')\n",
    "plt.plot(temp['Confirmed'][:10][::-1], temp['Country_Region'][:10][::-1], 'D')\n",
    "plt.xticks(rotation=90)\n",
    "plt.show()"
   ]
  },
  {
   "cell_type": "markdown",
   "metadata": {
    "papermill": {
     "duration": 0.056762,
     "end_time": "2024-05-12T01:22:59.943574",
     "exception": false,
     "start_time": "2024-05-12T01:22:59.886812",
     "status": "completed"
    },
    "tags": []
   },
   "source": [
    "## Don't forget to upvote if you like it!. \n",
    "If you have any doubt reagrding any part of the notebook, feel free to comment your doubt in the comment box.\n",
    "\n",
    "Thank you!!\n",
    "\n",
    "## Work in Progress... ⏳"
   ]
  }
 ],
 "metadata": {
  "kaggle": {
   "accelerator": "none",
   "dataSources": [
    {
     "databundleVersionId": 26502,
     "sourceId": 3136,
     "sourceType": "competition"
    },
    {
     "datasetId": 121,
     "sourceId": 280,
     "sourceType": "datasetVersion"
    },
    {
     "datasetId": 19,
     "sourceId": 420,
     "sourceType": "datasetVersion"
    },
    {
     "datasetId": 228,
     "sourceId": 482,
     "sourceType": "datasetVersion"
    },
    {
     "datasetId": 33180,
     "sourceId": 43520,
     "sourceType": "datasetVersion"
    },
    {
     "datasetId": 727551,
     "sourceId": 1263738,
     "sourceType": "datasetVersion"
    },
    {
     "datasetId": 494724,
     "sourceId": 2364896,
     "sourceType": "datasetVersion"
    },
    {
     "datasetId": 830240,
     "sourceId": 4226755,
     "sourceType": "datasetVersion"
    }
   ],
   "dockerImageVersionId": 30004,
   "isGpuEnabled": false,
   "isInternetEnabled": true,
   "language": "python",
   "sourceType": "notebook"
  },
  "kernelspec": {
   "display_name": "Python 3",
   "language": "python",
   "name": "python3"
  },
  "language_info": {
   "codemirror_mode": {
    "name": "ipython",
    "version": 3
   },
   "file_extension": ".py",
   "mimetype": "text/x-python",
   "name": "python",
   "nbconvert_exporter": "python",
   "pygments_lexer": "ipython3",
   "version": "3.7.6"
  },
  "papermill": {
   "duration": 13.702817,
   "end_time": "2024-05-12T01:23:00.108467",
   "environment_variables": {},
   "exception": null,
   "input_path": "__notebook__.ipynb",
   "output_path": "__notebook__.ipynb",
   "parameters": {},
   "start_time": "2024-05-12T01:22:46.405650",
   "version": "2.1.0"
  }
 },
 "nbformat": 4,
 "nbformat_minor": 4
}
